{
 "cells": [
  {
   "cell_type": "markdown",
   "metadata": {
    "id": "f2S8I2ny-ovS"
   },
   "source": [
    "# ANLP Assignment: Sentiment Classification\n",
    "\n",
    "In this assignment, you will be investigating NLP methods for distinguishing positive and negative reviews written about movies.\n",
    "\n",
    "For assessment, you are expected to complete and submit this notebook file.  When answers require code, you may import and use library functions (unless explicitly told otherwise).  All of your own code should be included in the notebook rather than imported from elsewhere.  Written answers should also be included in the notebook.  You should insert as many extra cells as you want and change the type between code and markdown as appropriate.\n",
    "\n",
    "In order to avoid misconduct, you should not talk about the assignment questions with your peers.  If you are not sure what a question is asking you to do or have any other questions, please ask me or one of the Teaching Assistants.\n",
    "\n",
    "Marking guidelines are provided as a separate document.\n",
    "\n",
    "The first few cells contain code to set-up the assignment and bring in some data.   In order to provide unique datasets for analysis by different students, you must enter your candidate number in the following cell.  Otherwise do not change the code in these cells."
   ]
  },
  {
   "cell_type": "code",
   "execution_count": 1,
   "metadata": {
    "id": "1gXQAZas-l9c"
   },
   "outputs": [],
   "source": [
    "#candidateno=277259 #this MUST be updated to your candidate number so that you get a unique data sample\n"
   ]
  },
  {
   "cell_type": "code",
   "execution_count": 2,
   "metadata": {
    "colab": {
     "base_uri": "https://localhost:8080/"
    },
    "id": "nk8JTP88A8vs",
    "outputId": "c1f53454-fb17-4a32-9b51-9d87d8d43b44"
   },
   "outputs": [
    {
     "name": "stderr",
     "output_type": "stream",
     "text": [
      "[nltk_data] Downloading package punkt to /root/nltk_data...\n",
      "[nltk_data]   Unzipping tokenizers/punkt.zip.\n",
      "[nltk_data] Downloading package stopwords to /root/nltk_data...\n",
      "[nltk_data]   Unzipping corpora/stopwords.zip.\n",
      "[nltk_data] Downloading package movie_reviews to /root/nltk_data...\n",
      "[nltk_data]   Unzipping corpora/movie_reviews.zip.\n"
     ]
    }
   ],
   "source": [
    "#do not change the code in this cell\n",
    "#preliminary imports\n",
    "\n",
    "#set up nltk\n",
    "import nltk\n",
    "nltk.download('punkt')\n",
    "nltk.download('stopwords')\n",
    "nltk.download('movie_reviews')\n",
    "from nltk.corpus import stopwords\n",
    "from nltk.tokenize import word_tokenize\n",
    "from nltk.corpus import movie_reviews\n",
    "\n",
    "#for setting up training and testing data\n",
    "import random\n",
    "\n",
    "#useful other tools\n",
    "import re\n",
    "import pandas as pd\n",
    "import matplotlib.pyplot as plt\n",
    "%matplotlib inline\n",
    "from itertools import zip_longest\n",
    "from nltk.probability import FreqDist\n",
    "from nltk.classify.api import ClassifierI\n"
   ]
  },
  {
   "cell_type": "code",
   "execution_count": 3,
   "metadata": {
    "id": "BHBkzAccCVaZ"
   },
   "outputs": [],
   "source": [
    "#do not change the code in this cell\n",
    "def split_data(data, ratio=0.7): # when the second argument is not given, it defaults to 0.7\n",
    "    \"\"\"\n",
    "    Given corpus generator and ratio:\n",
    "     - partitions the corpus into training data and test data, where the proportion in train is ratio,\n",
    "\n",
    "    :param data: A corpus generator.\n",
    "    :param ratio: The proportion of training documents (default 0.7)\n",
    "    :return: a pair (tuple) of lists where the first element of the\n",
    "            pair is a list of the training data and the second is a list of the test data.\n",
    "    \"\"\"\n",
    "\n",
    "    data = list(data)\n",
    "    n = len(data)\n",
    "    train_indices = random.sample(range(n), int(n * ratio))\n",
    "    test_indices = list(set(range(n)) - set(train_indices))\n",
    "    train = [data[i] for i in train_indices]\n",
    "    test = [data[i] for i in test_indices]\n",
    "    return (train, test)\n",
    "\n",
    "\n",
    "def get_train_test_data():\n",
    "\n",
    "    #get ids of positive and negative movie reviews\n",
    "    pos_review_ids=movie_reviews.fileids('pos')\n",
    "    neg_review_ids=movie_reviews.fileids('neg')\n",
    "\n",
    "    #split positive and negative data into training and testing sets\n",
    "    pos_train_ids, pos_test_ids = split_data(pos_review_ids)\n",
    "    neg_train_ids, neg_test_ids = split_data(neg_review_ids)\n",
    "    #add labels to the data and concatenate\n",
    "    training = [(movie_reviews.words(f),'pos') for f in pos_train_ids]+[(movie_reviews.words(f),'neg') for f in neg_train_ids]\n",
    "    testing = [(movie_reviews.words(f),'pos') for f in pos_test_ids]+[(movie_reviews.words(f),'neg') for f in neg_test_ids]\n",
    "\n",
    "    return training, testing"
   ]
  },
  {
   "cell_type": "markdown",
   "metadata": {
    "id": "1N3LWwBYICPP"
   },
   "source": [
    "When you have run the cell below, your unique training and testing samples will be stored in `training_data` and `testing_data`"
   ]
  },
  {
   "cell_type": "code",
   "execution_count": 4,
   "metadata": {
    "colab": {
     "base_uri": "https://localhost:8080/"
    },
    "id": "HJLegkdPFUJA",
    "outputId": "21a687bb-052b-4b1c-afef-a9b304c75802"
   },
   "outputs": [
    {
     "name": "stdout",
     "output_type": "stream",
     "text": [
      "The amount of training data is 1400\n",
      "The amount of testing data is 600\n",
      "The representation of a single data item is below\n",
      "(['dreamworks', 'pictures', 'presents', 'a', 'jinks', ...], 'pos')\n"
     ]
    }
   ],
   "source": [
    "#do not change the code in this cell\n",
    "random.seed(candidateno)\n",
    "training_data,testing_data=get_train_test_data()\n",
    "print(\"The amount of training data is {}\".format(len(training_data)))\n",
    "print(\"The amount of testing data is {}\".format(len(testing_data)))\n",
    "print(\"The representation of a single data item is below\")\n",
    "print(training_data[0])"
   ]
  },
  {
   "cell_type": "markdown",
   "metadata": {
    "id": "RbTq6eGv2XT2"
   },
   "source": [
    "1)  \n",
    "a) **Generate** a list of 10 content words which are representative of the positive reviews in your training data.\n",
    "\n",
    "b) **Generate** a list of 10 content words which are representative of the negative reviews in your training data.\n",
    "\n",
    "c) **Explain** what you have done and why\n",
    "\n",
    "[20\\%]"
   ]
  },
  {
   "cell_type": "code",
   "execution_count": 5,
   "metadata": {
    "colab": {
     "base_uri": "https://localhost:8080/"
    },
    "id": "JXHrtNCg2XT4",
    "outputId": "0d09aaa0-ee2a-46c4-c4e8-a248d92bc987"
   },
   "outputs": [
    {
     "name": "stdout",
     "output_type": "stream",
     "text": [
      "Here, a list of 10 content words which are representative of the positive reviews in my training data: \n",
      " ['film', 'life', 'story', 'world', 'great', 'also', 'well', 'many', 'best', 'family']\n"
     ]
    }
   ],
   "source": [
    "# 1 a) Answer:-\n",
    "stop=stopwords.words('english') #stopwords initialisation\n",
    "\n",
    "def preprocessing_text_data(words_list): # performing text preprocessing pipeline\n",
    "    post_normalization = [vocab.lower() for vocab in words_list]\n",
    "    cleaned_data = [vocab for vocab in post_normalization if vocab.isalpha() and vocab not in stop]\n",
    "    return cleaned_data\n",
    "\n",
    "train_normalized_data = [(FreqDist(preprocessing_text_data(words_list)),labelled_data) for (words_list,labelled_data) in training_data]\n",
    "test_normalized_data = [(FreqDist(preprocessing_text_data(words_list)),labelled_data) for (words_list,labelled_data) in testing_data]\n",
    "\n",
    "\n",
    "positive_freq_dist = FreqDist() #frequency distribution initialisation\n",
    "negative_freq_dist = FreqDist()\n",
    "\n",
    "for reviews,labelled_data in train_normalized_data:\n",
    "    if labelled_data == 'pos':\n",
    "        positive_freq_dist += reviews\n",
    "    else:\n",
    "        negative_freq_dist += reviews\n",
    "\n",
    "positive_difference = positive_freq_dist - negative_freq_dist\n",
    "negative_difference = negative_freq_dist - positive_freq_dist\n",
    "\n",
    "def frequent_occuring_words(positives_frequency, negatives_frequency, topk): #finding out most common words from the data\n",
    "    difference = positives_frequency - negatives_frequency\n",
    "    sorted_difference = difference.most_common()\n",
    "    frequency_vocabs = [vocab for (vocab,frequency) in sorted_difference[:topk]]\n",
    "    return frequency_vocabs\n",
    "\n",
    "\n",
    "positive_content_words = frequent_occuring_words(positive_freq_dist, negative_freq_dist, 10) # getting positive words\n",
    "print(\"Here, a list of 10 content words which are representative of the positive reviews in my training data:\",'\\n', positive_content_words)"
   ]
  },
  {
   "cell_type": "code",
   "execution_count": 6,
   "metadata": {
    "colab": {
     "base_uri": "https://localhost:8080/"
    },
    "id": "gvFu36xZ2XT5",
    "outputId": "5043ef9b-7d53-458f-9d6f-b8527d828bc8",
    "scrolled": true
   },
   "outputs": [
    {
     "name": "stdout",
     "output_type": "stream",
     "text": [
      "Here, a list of 10 content words which are representative of the positive reviews in my training data: \n",
      " ['movie', 'bad', 'plot', 'worst', 'could', 'even', 'big', 'nothing', 'stupid', 'supposed']\n"
     ]
    }
   ],
   "source": [
    "# 1 b) Answer:-\n",
    "\n",
    "negative_content_words = frequent_occuring_words(negative_freq_dist, positive_freq_dist, 10) # getting negative words\n",
    "print(\"Here, a list of 10 content words which are representative of the positive reviews in my training data:\",'\\n', negative_content_words)"
   ]
  },
  {
   "cell_type": "markdown",
   "metadata": {
    "id": "RgePc9hV2XT_"
   },
   "source": [
    "###### 1 c) Explanation:-\n",
    "\n",
    "\n",
    "+ In the first step, I have created a function named preprocessing_text_data to perform the text preprocessing task, and it is the key step in my procedure. The function takes the list of words as input, converts it into lowercase, removes any non-alphabetic characters present in the data, and also avoids the stop words that are present inside the data. Finally, it produces the cleaned data, which is very essential for the following steps.\n",
    "\n",
    "+ In the next step, I have applied my function to training and testing data in order to get the data in the proper format. So, here, the function can take the list of words from the train and test data and remain in the data in normalization format. The output of the data is a tuple. I have given two separate variables for training normalization data and testing normalization data.\n",
    "\n",
    "+ Following that, I initialized the FreqDist function, which can count the frequency of words in a set of data. I have given two variables to differentiate between positive frequency words and negative frequency words.\n",
    "\n",
    "+ In the final stage, the frequent_occurring_words function can take frequency data as input and remain the top frequency words of a particular section, followed by the sorted_differences function, which gives the data in descending order.\n",
    "\n",
    "+ The positive_content_words variable and the negative_content_words variable store the values of the top 10 frequently occurring words in the data.\n",
    "\n"
   ]
  },
  {
   "cell_type": "markdown",
   "metadata": {
    "id": "JauTzY5N2XUB"
   },
   "source": []
  },
  {
   "cell_type": "markdown",
   "metadata": {
    "id": "TApOQE6vND20"
   },
   "source": [
    "2)\n",
    "a) **Use** the lists generated in Q1 to build a **word list classifier** which will classify reviews as being positive or negative.\n",
    "\n",
    "b) **Explain** what you have done.\n",
    "\n",
    "[12.5\\%]\n"
   ]
  },
  {
   "cell_type": "code",
   "execution_count": 7,
   "metadata": {
    "colab": {
     "base_uri": "https://localhost:8080/",
     "height": 36
    },
    "id": "BThDMrcmODJy",
    "outputId": "85da0894-171c-4486-87d2-e5f6e0f27e05"
   },
   "outputs": [
    {
     "data": {
      "application/vnd.google.colaboratory.intrinsic+json": {
       "type": "string"
      },
      "text/plain": [
       "'pos'"
      ]
     },
     "execution_count": 7,
     "metadata": {},
     "output_type": "execute_result"
    }
   ],
   "source": [
    "# 2 a) Answer:-\n",
    "\n",
    "from nltk.classify.api import ClassifierI\n",
    "import random\n",
    "class WordlistClassifier(ClassifierI): # Classifier initialization\n",
    "    def __init__(self, positive_words, negative_words):\n",
    "        self._positives = positive_words\n",
    "        self._negatives = negative_words\n",
    "\n",
    "    def classify(self, texts): # calculating frequency of words\n",
    "        current_score = 0\n",
    "        for vocab,val in texts.items():\n",
    "            if vocab in self._positives:\n",
    "                current_score += val\n",
    "            if vocab in self._negatives:\n",
    "                current_score -= val\n",
    "        return \"neg\" if current_score <0 else \"pos\"\n",
    "\n",
    "    def target_labels(self): # output\n",
    "        return (\"pos\",\"neg\")\n",
    "\n",
    "WLclassifier=WordlistClassifier(positive_content_words, negative_content_words)\n",
    "WLclassifier.classify(FreqDist(\"The Harry Potter film was good\".split()))"
   ]
  },
  {
   "cell_type": "markdown",
   "metadata": {
    "id": "66ieUIn_VERR"
   },
   "source": [
    "###### 2 b) Explanation:-\n",
    "\n",
    "\n",
    "+ Here, imported the necessary NLTK libraries here. WordlistClassifier, a class defined by ClassifierI, was created. When this class is initialized, it takes two parameters, positive_words and negative_words, and stores them as instance variables positives and negatives.\n",
    "\n",
    "+ Furthermore, a classify function was defined and one parameter was passed as text. This function only accepts data in dictionary format and begins iterating and calculating the score based on the presence of words in the positive and negative data. When a word appears in the positive list, its frequency is added to the current_score; when it appears in the negative list, its frequency is subtracted from the current_score. Finally, if the current_score is less than zero, it returns \"neg\" otherwise it returns 'pos'.\n",
    "\n",
    "+ The target_labels function can produce two outputs: 'pos' and 'neg'.\n",
    "\n",
    "+ Positive_content_words and negative_content_words were used to create WordlistClassifier. The classify method computes the frequency distribution of words in a given comment (\"The Harry Potter film was good\"). The output ('pos' or 'neg') is generated based on the word list scoring.\n",
    "\n"
   ]
  },
  {
   "cell_type": "markdown",
   "metadata": {
    "id": "C6vK5Vyz2XUF"
   },
   "source": []
  },
  {
   "cell_type": "markdown",
   "metadata": {
    "id": "YZdDO_Y92XUH"
   },
   "source": [
    "3)\n",
    "a) **Calculate** the accuracy, precision, recall and F1 score of your classifier.\n",
    "\n",
    "b) Is it reasonable to evaluate the classifier in terms of its accuracy?  **Explain** your answer and give a counter-example (a scenario where it would / would not be reasonable to evaluate the classifier in terms of its accuracy).\n",
    "\n",
    "[20\\%]"
   ]
  },
  {
   "cell_type": "code",
   "execution_count": 8,
   "metadata": {
    "colab": {
     "base_uri": "https://localhost:8080/"
    },
    "id": "mK6ZGAfZVERS",
    "outputId": "428ff332-490e-4ca1-b99b-393cc00ca5ab",
    "scrolled": false
   },
   "outputs": [
    {
     "name": "stdout",
     "output_type": "stream",
     "text": [
      "The Accuracy of the data by using World List Classifier is         :  0.635\n",
      "The Precision value of the data by using Word List Classifier is  :  0.5961995249406176\n",
      "The recall value of the data by using Word List Classifier is     :  0.8366666666666667\n",
      "The F1 score  of the data by using Word List Classifier is        :  0.6962552011095701\n"
     ]
    }
   ],
   "source": [
    "# 3 a) Answer :-\n",
    "\n",
    "def evaluate_accuracy(model,testing_data):\n",
    "   count=0\n",
    "   documents, target_label =zip(*testing_data)\n",
    "   pred=model.classify_many(documents)\n",
    "   for voc, val in zip(preds, target_label):\n",
    "        if voc == val:\n",
    "           count+=1\n",
    "   return count/(len(testing_data))\n",
    "\n",
    "documents, target_label =zip(*test_normalized_data)\n",
    "preds=WLclassifier.classify_many(documents)\n",
    "acc_score=evaluate_accuracy(WLclassifier,test_normalized_data)\n",
    "print('The Accuracy of the data by using World List Classifier is         : ', acc_score)\n",
    "\n",
    "\n",
    "class confusion_matrix_classification:\n",
    "  def __init__(self,preds,target_label, targets=(\"pos\",\"neg\")):\n",
    "    self.positives,self.negatives=targets\n",
    "    self.True_Pos=0 #truepositive\n",
    "    self.False_Pos=0 #falsepositive\n",
    "    self.False_Neg=0 #falsenegative\n",
    "    self.True_Neg=0 #truenegative\n",
    "    for h,j in zip(preds,target_label):\n",
    "      if j==self.positives:\n",
    "        if h==self.positives:\n",
    "          self.True_Pos+=1\n",
    "        else:\n",
    "          self.False_Neg+=1\n",
    "      elif h==self.positives:\n",
    "        self.False_Pos+=1\n",
    "      else:\n",
    "        self.True_Neg+=1\n",
    "  def precision(self):\n",
    "    prec=0\n",
    "    prec=self.True_Pos/(self.True_Pos+self.False_Pos)\n",
    "    return prec\n",
    "  def recall(self):\n",
    "    recl=0\n",
    "    recl=self.True_Pos/(self.True_Pos+self.False_Neg)\n",
    "    return recl\n",
    "  def F1(self):\n",
    "    f_score=(2*self.precision()*self.recall())/(self.precision()+self.recall())\n",
    "    return f_score\n",
    "\n",
    "wlc_confusion_matrix=confusion_matrix_classification(preds,target_label)\n",
    "wlc_precision=wlc_confusion_matrix.precision()\n",
    "wlc_recall=wlc_confusion_matrix.recall()\n",
    "wlc_f1_score=wlc_confusion_matrix.F1()\n",
    "\n",
    "\n",
    "print('The Precision value of the data by using Word List Classifier is  : ', wlc_precision)\n",
    "print('The recall value of the data by using Word List Classifier is     : ', wlc_recall)\n",
    "print('The F1 score  of the data by using Word List Classifier is        : ', wlc_f1_score)"
   ]
  },
  {
   "cell_type": "markdown",
   "metadata": {
    "id": "AsTIxEQ7VERU"
   },
   "source": [
    "###### 3 b) Explanation:-\n",
    "\n",
    "+ Formulas for Accuracy, Precision, Recall, and F1 Score:\n",
    "\n",
    "+ Accuracy = $$\\frac{number\\; of\\;correct\\; prediction}{test\\; data\\; length} $$\n",
    "\n",
    "+ precision = $$\\frac{TP}{TP+FP} $$\n",
    "+ recall = $$\\frac{TP}{TP+FN} $$\n",
    "\n",
    "+ F1 score = $$\\frac{2×p×r}{p+r}$$\n",
    "\n",
    "+ Yes, it is reasonable to evaluate the classifier in terms of its accuracy when the data is balanced. The balanced data means when the number of observations is the same for all the classes in a given data set. It is a well known metric that provides a simple and straightforward measure of overall model performance.\n",
    "\n",
    "+ No, it is not reasonable to evaluate the classifier in terms of its accuracy when the data is imbalanced. The imbalanced data means when the number of observations is not the same for all the classes in a given data set. In this scenario, Accuracy does not take cares the types of errors made by the model. It treats all errors the same, irrespective of target output.\n",
    "\n",
    "+ Counter-example:- Assume a scenario: out of a total of 100 students, 99 arrive on time and one arrives late. The model predicts that all of the students will arrive on time, with a 99 percent accuracy. Due to the imbalance in student numbers, the high accuracy is not the correct accuracy, and it will be unable to detect the small number of truly latecomers. It will be balanced if 50 students arrive on time and 50 arrive late to class out of a class of 100. Alternative evaluation metrics such as precision, recall, and F1 score would be more appropriate in imbalanced cases."
   ]
  },
  {
   "cell_type": "markdown",
   "metadata": {
    "id": "AVZp0N5J2XUL"
   },
   "source": []
  },
  {
   "cell_type": "markdown",
   "metadata": {
    "id": "LIS9UpmJNEAp"
   },
   "source": [
    "4)\n",
    "a)  **Construct** a Naive Bayes classifier (e.g., from NLTK).\n",
    "\n",
    "b)  **Compare** the performance of your word list classifier with the Naive Bayes classifier.  **Discuss** your results.\n",
    "\n",
    "[12.5\\%]"
   ]
  },
  {
   "cell_type": "code",
   "execution_count": 9,
   "metadata": {
    "colab": {
     "base_uri": "https://localhost:8080/",
     "height": 317
    },
    "id": "Gwjig-Y12XUN",
    "outputId": "1feb3c65-8f24-4ee3-c0f0-cbceb23e50e7",
    "scrolled": true
   },
   "outputs": [
    {
     "name": "stdout",
     "output_type": "stream",
     "text": [
      "The Precision value of the data by using Naive Bayes Classifier Algorithm is  :  0.6387665198237885\n",
      "The recall value of the data by using Naive Bayes Classifier Algorithm is     :  0.9666666666666667\n",
      "The F1 score  of the data by using Naive Bayes Classifier Algorithm is        :  0.7692307692307693\n",
      "\n",
      "The results of Word List Classifier are :- \n",
      "Precision value : 0.5961995249406176 \n",
      "Recall value : 0.8366666666666667 \n",
      "F1 Score : 0.6962552011095701\n",
      "\n",
      "\n"
     ]
    },
    {
     "data": {
      "text/html": [
       "\n",
       "  <div id=\"df-c34031ca-d9f2-4630-b035-824f9920a279\" class=\"colab-df-container\">\n",
       "    <div>\n",
       "<style scoped>\n",
       "    .dataframe tbody tr th:only-of-type {\n",
       "        vertical-align: middle;\n",
       "    }\n",
       "\n",
       "    .dataframe tbody tr th {\n",
       "        vertical-align: top;\n",
       "    }\n",
       "\n",
       "    .dataframe thead th {\n",
       "        text-align: right;\n",
       "    }\n",
       "</style>\n",
       "<table border=\"1\" class=\"dataframe\">\n",
       "  <thead>\n",
       "    <tr style=\"text-align: right;\">\n",
       "      <th></th>\n",
       "      <th>wordlistcalssifier</th>\n",
       "      <th>naivebayesclassifier</th>\n",
       "      <th>compared results</th>\n",
       "    </tr>\n",
       "  </thead>\n",
       "  <tbody>\n",
       "    <tr>\n",
       "      <th>precision</th>\n",
       "      <td>0.596200</td>\n",
       "      <td>0.638767</td>\n",
       "      <td>-0.042567</td>\n",
       "    </tr>\n",
       "    <tr>\n",
       "      <th>recall</th>\n",
       "      <td>0.836667</td>\n",
       "      <td>0.966667</td>\n",
       "      <td>-0.130000</td>\n",
       "    </tr>\n",
       "    <tr>\n",
       "      <th>F1 score</th>\n",
       "      <td>0.696255</td>\n",
       "      <td>0.769231</td>\n",
       "      <td>-0.072976</td>\n",
       "    </tr>\n",
       "  </tbody>\n",
       "</table>\n",
       "</div>\n",
       "    <div class=\"colab-df-buttons\">\n",
       "\n",
       "  <div class=\"colab-df-container\">\n",
       "    <button class=\"colab-df-convert\" onclick=\"convertToInteractive('df-c34031ca-d9f2-4630-b035-824f9920a279')\"\n",
       "            title=\"Convert this dataframe to an interactive table.\"\n",
       "            style=\"display:none;\">\n",
       "\n",
       "  <svg xmlns=\"http://www.w3.org/2000/svg\" height=\"24px\" viewBox=\"0 -960 960 960\">\n",
       "    <path d=\"M120-120v-720h720v720H120Zm60-500h600v-160H180v160Zm220 220h160v-160H400v160Zm0 220h160v-160H400v160ZM180-400h160v-160H180v160Zm440 0h160v-160H620v160ZM180-180h160v-160H180v160Zm440 0h160v-160H620v160Z\"/>\n",
       "  </svg>\n",
       "    </button>\n",
       "\n",
       "  <style>\n",
       "    .colab-df-container {\n",
       "      display:flex;\n",
       "      gap: 12px;\n",
       "    }\n",
       "\n",
       "    .colab-df-convert {\n",
       "      background-color: #E8F0FE;\n",
       "      border: none;\n",
       "      border-radius: 50%;\n",
       "      cursor: pointer;\n",
       "      display: none;\n",
       "      fill: #1967D2;\n",
       "      height: 32px;\n",
       "      padding: 0 0 0 0;\n",
       "      width: 32px;\n",
       "    }\n",
       "\n",
       "    .colab-df-convert:hover {\n",
       "      background-color: #E2EBFA;\n",
       "      box-shadow: 0px 1px 2px rgba(60, 64, 67, 0.3), 0px 1px 3px 1px rgba(60, 64, 67, 0.15);\n",
       "      fill: #174EA6;\n",
       "    }\n",
       "\n",
       "    .colab-df-buttons div {\n",
       "      margin-bottom: 4px;\n",
       "    }\n",
       "\n",
       "    [theme=dark] .colab-df-convert {\n",
       "      background-color: #3B4455;\n",
       "      fill: #D2E3FC;\n",
       "    }\n",
       "\n",
       "    [theme=dark] .colab-df-convert:hover {\n",
       "      background-color: #434B5C;\n",
       "      box-shadow: 0px 1px 3px 1px rgba(0, 0, 0, 0.15);\n",
       "      filter: drop-shadow(0px 1px 2px rgba(0, 0, 0, 0.3));\n",
       "      fill: #FFFFFF;\n",
       "    }\n",
       "  </style>\n",
       "\n",
       "    <script>\n",
       "      const buttonEl =\n",
       "        document.querySelector('#df-c34031ca-d9f2-4630-b035-824f9920a279 button.colab-df-convert');\n",
       "      buttonEl.style.display =\n",
       "        google.colab.kernel.accessAllowed ? 'block' : 'none';\n",
       "\n",
       "      async function convertToInteractive(key) {\n",
       "        const element = document.querySelector('#df-c34031ca-d9f2-4630-b035-824f9920a279');\n",
       "        const dataTable =\n",
       "          await google.colab.kernel.invokeFunction('convertToInteractive',\n",
       "                                                    [key], {});\n",
       "        if (!dataTable) return;\n",
       "\n",
       "        const docLinkHtml = 'Like what you see? Visit the ' +\n",
       "          '<a target=\"_blank\" href=https://colab.research.google.com/notebooks/data_table.ipynb>data table notebook</a>'\n",
       "          + ' to learn more about interactive tables.';\n",
       "        element.innerHTML = '';\n",
       "        dataTable['output_type'] = 'display_data';\n",
       "        await google.colab.output.renderOutput(dataTable, element);\n",
       "        const docLink = document.createElement('div');\n",
       "        docLink.innerHTML = docLinkHtml;\n",
       "        element.appendChild(docLink);\n",
       "      }\n",
       "    </script>\n",
       "  </div>\n",
       "\n",
       "\n",
       "<div id=\"df-f2f1ac16-5774-4535-bf3b-af6f3aecccbd\">\n",
       "  <button class=\"colab-df-quickchart\" onclick=\"quickchart('df-f2f1ac16-5774-4535-bf3b-af6f3aecccbd')\"\n",
       "            title=\"Suggest charts\"\n",
       "            style=\"display:none;\">\n",
       "\n",
       "<svg xmlns=\"http://www.w3.org/2000/svg\" height=\"24px\"viewBox=\"0 0 24 24\"\n",
       "     width=\"24px\">\n",
       "    <g>\n",
       "        <path d=\"M19 3H5c-1.1 0-2 .9-2 2v14c0 1.1.9 2 2 2h14c1.1 0 2-.9 2-2V5c0-1.1-.9-2-2-2zM9 17H7v-7h2v7zm4 0h-2V7h2v10zm4 0h-2v-4h2v4z\"/>\n",
       "    </g>\n",
       "</svg>\n",
       "  </button>\n",
       "\n",
       "<style>\n",
       "  .colab-df-quickchart {\n",
       "      --bg-color: #E8F0FE;\n",
       "      --fill-color: #1967D2;\n",
       "      --hover-bg-color: #E2EBFA;\n",
       "      --hover-fill-color: #174EA6;\n",
       "      --disabled-fill-color: #AAA;\n",
       "      --disabled-bg-color: #DDD;\n",
       "  }\n",
       "\n",
       "  [theme=dark] .colab-df-quickchart {\n",
       "      --bg-color: #3B4455;\n",
       "      --fill-color: #D2E3FC;\n",
       "      --hover-bg-color: #434B5C;\n",
       "      --hover-fill-color: #FFFFFF;\n",
       "      --disabled-bg-color: #3B4455;\n",
       "      --disabled-fill-color: #666;\n",
       "  }\n",
       "\n",
       "  .colab-df-quickchart {\n",
       "    background-color: var(--bg-color);\n",
       "    border: none;\n",
       "    border-radius: 50%;\n",
       "    cursor: pointer;\n",
       "    display: none;\n",
       "    fill: var(--fill-color);\n",
       "    height: 32px;\n",
       "    padding: 0;\n",
       "    width: 32px;\n",
       "  }\n",
       "\n",
       "  .colab-df-quickchart:hover {\n",
       "    background-color: var(--hover-bg-color);\n",
       "    box-shadow: 0 1px 2px rgba(60, 64, 67, 0.3), 0 1px 3px 1px rgba(60, 64, 67, 0.15);\n",
       "    fill: var(--button-hover-fill-color);\n",
       "  }\n",
       "\n",
       "  .colab-df-quickchart-complete:disabled,\n",
       "  .colab-df-quickchart-complete:disabled:hover {\n",
       "    background-color: var(--disabled-bg-color);\n",
       "    fill: var(--disabled-fill-color);\n",
       "    box-shadow: none;\n",
       "  }\n",
       "\n",
       "  .colab-df-spinner {\n",
       "    border: 2px solid var(--fill-color);\n",
       "    border-color: transparent;\n",
       "    border-bottom-color: var(--fill-color);\n",
       "    animation:\n",
       "      spin 1s steps(1) infinite;\n",
       "  }\n",
       "\n",
       "  @keyframes spin {\n",
       "    0% {\n",
       "      border-color: transparent;\n",
       "      border-bottom-color: var(--fill-color);\n",
       "      border-left-color: var(--fill-color);\n",
       "    }\n",
       "    20% {\n",
       "      border-color: transparent;\n",
       "      border-left-color: var(--fill-color);\n",
       "      border-top-color: var(--fill-color);\n",
       "    }\n",
       "    30% {\n",
       "      border-color: transparent;\n",
       "      border-left-color: var(--fill-color);\n",
       "      border-top-color: var(--fill-color);\n",
       "      border-right-color: var(--fill-color);\n",
       "    }\n",
       "    40% {\n",
       "      border-color: transparent;\n",
       "      border-right-color: var(--fill-color);\n",
       "      border-top-color: var(--fill-color);\n",
       "    }\n",
       "    60% {\n",
       "      border-color: transparent;\n",
       "      border-right-color: var(--fill-color);\n",
       "    }\n",
       "    80% {\n",
       "      border-color: transparent;\n",
       "      border-right-color: var(--fill-color);\n",
       "      border-bottom-color: var(--fill-color);\n",
       "    }\n",
       "    90% {\n",
       "      border-color: transparent;\n",
       "      border-bottom-color: var(--fill-color);\n",
       "    }\n",
       "  }\n",
       "</style>\n",
       "\n",
       "  <script>\n",
       "    async function quickchart(key) {\n",
       "      const quickchartButtonEl =\n",
       "        document.querySelector('#' + key + ' button');\n",
       "      quickchartButtonEl.disabled = true;  // To prevent multiple clicks.\n",
       "      quickchartButtonEl.classList.add('colab-df-spinner');\n",
       "      try {\n",
       "        const charts = await google.colab.kernel.invokeFunction(\n",
       "            'suggestCharts', [key], {});\n",
       "      } catch (error) {\n",
       "        console.error('Error during call to suggestCharts:', error);\n",
       "      }\n",
       "      quickchartButtonEl.classList.remove('colab-df-spinner');\n",
       "      quickchartButtonEl.classList.add('colab-df-quickchart-complete');\n",
       "    }\n",
       "    (() => {\n",
       "      let quickchartButtonEl =\n",
       "        document.querySelector('#df-f2f1ac16-5774-4535-bf3b-af6f3aecccbd button');\n",
       "      quickchartButtonEl.style.display =\n",
       "        google.colab.kernel.accessAllowed ? 'block' : 'none';\n",
       "    })();\n",
       "  </script>\n",
       "</div>\n",
       "    </div>\n",
       "  </div>\n"
      ],
      "text/plain": [
       "           wordlistcalssifier  naivebayesclassifier  compared results \n",
       "precision            0.596200              0.638767          -0.042567\n",
       "recall               0.836667              0.966667          -0.130000\n",
       "F1 score             0.696255              0.769231          -0.072976"
      ]
     },
     "execution_count": 9,
     "metadata": {},
     "output_type": "execute_result"
    }
   ],
   "source": [
    "# 4 a) Answer:-\n",
    "\n",
    "from nltk.classify import NaiveBayesClassifier\n",
    "model_building =NaiveBayesClassifier.train(train_normalized_data)\n",
    "naive_bayes_predictions = model_building.classify_many(documents)\n",
    "\n",
    "nbc_confusion_matrix=confusion_matrix_classification(naive_bayes_predictions,target_label)\n",
    "nbc_precision=nbc_confusion_matrix.precision()\n",
    "nbc_recall=nbc_confusion_matrix.recall()\n",
    "nbc_f1_score=nbc_confusion_matrix.F1()\n",
    "print('The Precision value of the data by using Naive Bayes Classifier Algorithm is  : ', nbc_precision)\n",
    "print('The recall value of the data by using Naive Bayes Classifier Algorithm is     : ', nbc_recall)\n",
    "print('The F1 score  of the data by using Naive Bayes Classifier Algorithm is        : ', nbc_f1_score)\n",
    "\n",
    "compared_precisions= wlc_precision-nbc_precision\n",
    "compared_recalls=wlc_recall-nbc_recall\n",
    "compared_f1=wlc_f1_score-nbc_f1_score\n",
    "data1={\"wordlistcalssifier\":[wlc_precision, wlc_recall,wlc_f1_score],\n",
    "     \"naivebayesclassifier\":[nbc_precision, nbc_recall, nbc_f1_score],\n",
    "        \"compared results \":[compared_precisions,compared_recalls,compared_f1]}\n",
    "\n",
    "\n",
    "\n",
    "print()# creating space\n",
    "print('The results of Word List Classifier are :- \\nPrecision value : {} \\nRecall value : {} \\nF1 Score : {}'.format(wlc_precision,wlc_recall,wlc_f1_score))\n",
    "print()\n",
    "print()\n",
    "df1=pd.DataFrame(data1,index=[\"precision\",\"recall\",\"F1 score\"])\n",
    "df1.head(3)\n"
   ]
  },
  {
   "cell_type": "markdown",
   "metadata": {
    "id": "y6U3NKJFVERW"
   },
   "source": [
    "###### 4 b) Explanation:-\n",
    "\n",
    "\n",
    "\n",
    "+ I imported the Naive Bayes classifier from the NLTK library. I initialized the classifier and trained the NaiveBayesClassifier by passing the training data. Now my model gets fitted and gives documents in order to make predictions. The predicted values are stored in a separate variable called naive_bayes_predictions.\n",
    "\n",
    "+ In the next stage, I created confusion_matrix_classification functions to find out the precision, recall, and f1 score of the Naive Bayes classifier, and each of them was stored in a respected variable. and did the comparisons of perception, recall, and f1 score of both the classifiers (word list classifier and Naive Bayes classifier).\n",
    "\n",
    "+ On the other hand, I created a dictionary that stores all of the values of the word list classifier, NaiveBayesClassifier, and their differences by giving a data1 variable. and displayed all the values in tabular format by using Pandas DataFrame.\n",
    "\n",
    "+ While comparing the two classifier values, the Naive Bayes classifier gave higher values than the word list classifier. The results of the Word List Classifier were precision 0.59, recall 0.83, and f1 score 0.69, and the results of the Naive Bayes Classifier were precision 0.63, recall 0.96, and f1 score 0.76. Here, the Naive Bayes classifier approach is better with overall performance.\n",
    "\n"
   ]
  },
  {
   "cell_type": "markdown",
   "metadata": {
    "id": "bytPkuHf2XUO"
   },
   "source": []
  },
  {
   "cell_type": "markdown",
   "metadata": {
    "id": "LGDXaVDqOSfY"
   },
   "source": [
    "5)\n",
    "a) Design and **carry out an experiment** into the impact of the **length of the wordlists** on the wordlist classifier.  Make sure you **describe** design decisions in your experiment, include a **graph** of your results and **discuss** your conclusions.\n",
    "\n",
    "b) Would you **recommend** a wordlist classifier or a Naive Bayes classifier for future work in this area?  **Justify** your answer.\n",
    "\n",
    "[25\\%]\n"
   ]
  },
  {
   "cell_type": "markdown",
   "metadata": {
    "id": "UlxoUthX2XUP"
   },
   "source": []
  },
  {
   "cell_type": "code",
   "execution_count": 10,
   "metadata": {
    "id": "T1L7mZ-k2XUQ"
   },
   "outputs": [],
   "source": [
    "# 5 a) Answer:-\n",
    "\n",
    "accuracy=[]\n",
    "precision=[]\n",
    "recall=[]\n",
    "f1_score=[]\n",
    "for i in range(1,51):\n",
    "  positive_content_words=[vocab[0] for vocab in positive_difference.most_common(i)]\n",
    "  negative_content_words=[vocab[0] for vocab in negative_difference.most_common(i)]\n",
    "  word_list_classifier=WordlistClassifier(positive_content_words,negative_content_words)\n",
    "  pred_data=word_list_classifier.classify_many(documents)\n",
    "  accuracy.append(evaluate_accuracy(word_list_classifier,test_normalized_data))\n",
    "  confusion_matrix_class=confusion_matrix_classification(pred_data, target_label)\n",
    "  precision.append(confusion_matrix_class.precision())\n",
    "  recall.append(confusion_matrix_class.recall())\n",
    "  f1_score.append(confusion_matrix_class.F1())"
   ]
  },
  {
   "cell_type": "code",
   "execution_count": 11,
   "metadata": {
    "colab": {
     "base_uri": "https://localhost:8080/",
     "height": 449
    },
    "id": "VT82P88M2XUQ",
    "outputId": "bbd90b2a-09e0-4a38-fbed-51c577ba85ea",
    "scrolled": false
   },
   "outputs": [
    {
     "data": {
      "image/png": "[encoded data removed]",
      "text/plain": [
       "<Figure size 640x480 with 1 Axes>"
      ]
     },
     "metadata": {},
     "output_type": "display_data"
    }
   ],
   "source": [
    "wordlist_freq = list(range(1,51))\n",
    "plt.plot(wordlist_freq,precision ,'b',label = 'Precision')\n",
    "plt.xlabel('Word List length')\n",
    "plt.ylabel('Precision')\n",
    "plt.legend()\n",
    "plt.show()"
   ]
  },
  {
   "cell_type": "code",
   "execution_count": 12,
   "metadata": {
    "colab": {
     "base_uri": "https://localhost:8080/",
     "height": 449
    },
    "id": "fEv1xVWHVERZ",
    "outputId": "629f197f-4bc6-421e-aa97-325ba37e310f"
   },
   "outputs": [
    {
     "data": {
      "image/png": "[encoded data removed]",
      "text/plain": [
       "<Figure size 640x480 with 1 Axes>"
      ]
     },
     "metadata": {},
     "output_type": "display_data"
    }
   ],
   "source": [
    "wordlist_length = list(range(1,51))\n",
    "plt.plot(wordlist_length, recall ,'b',label = 'Recall')\n",
    "plt.xlabel('Word List length')\n",
    "plt.ylabel('Recall')\n",
    "plt.legend()\n",
    "plt.show()"
   ]
  },
  {
   "cell_type": "code",
   "execution_count": 13,
   "metadata": {
    "colab": {
     "base_uri": "https://localhost:8080/",
     "height": 449
    },
    "id": "gL0sEfXpVERa",
    "outputId": "90d7f741-cce7-4ecf-b714-873df9db490e"
   },
   "outputs": [
    {
     "data": {
      "image/png": "[encoded data removed]",
      "text/plain": [
       "<Figure size 640x480 with 1 Axes>"
      ]
     },
     "metadata": {},
     "output_type": "display_data"
    }
   ],
   "source": [
    "wordlist_length = list(range(1,51))\n",
    "plt.plot(wordlist_length,f1_score ,'b',label = 'F1 Score')\n",
    "plt.xlabel('Word List length')\n",
    "plt.ylabel('F1 score')\n",
    "plt.legend()\n",
    "plt.show()"
   ]
  },
  {
   "cell_type": "markdown",
   "metadata": {
    "id": "MbgxUH3MVERb"
   },
   "source": [
    "###### 5 a) Answer:-\n",
    "\n",
    "\n",
    "+ To determine the impact of the length of the wordlists on the wordlist classifier, I used 50 instances of positive and negative wordlists. In the loop, I compute the accuracy by using evaluate_accuracy, precision, recall, and the f1 score by using confusion_matrix_classification. I assigned each value to the variables by creating an empty list variable. Now, all the values will be stored in each of the respective variables.\n",
    "\n",
    "+ I used the Matplotlib library to plot graphs for precision, recall, and f1 score.\n",
    "  + The precision chart value starts at 0.52, and it reaches around 0.55. Finally, it reaches approximately 0.60, and the rest of the graph shows a downward trend with fluctuations and ends at 0.57.\n",
    "  \n",
    "  + The graph of recalls follows an upward trend; it started at 0.71 and reaches 0.95 with slight changes in trend.\n",
    "  \n",
    "  + The F1 score graph starts at 0.60, rapidly hits the point around 0.70, and it follows the straight forward direction with less changes in the trend line with respect to the word length and remains at 0.71.\n",
    "\n",
    "  \n",
    "  \n",
    " ###### 5 b) Answer:-\n",
    "\n",
    "+ The word list classifiers are easier to understand, and it's very clearer how classification decisions are made based on the presence or absence of a specific vocabulary, but they might face difficulty when dealing with new data.\n",
    "\n",
    "+ The application of the Naive Bayes classifier is very simple, and it is a probability-based approach. It can easily deal with the new complex data. In the above scenario, I have also seen the performance of both classifiers. The Naive Bayes classifier performed very well, with higher accuracy, precision, recall, and f1 score.\n",
    "\n",
    "+ In my future work in this area, I will prefer and recommend the Naive Bayes classifier over the word list classifier.\n"
   ]
  },
  {
   "cell_type": "markdown",
   "metadata": {
    "id": "Ym-TGvYS2XUR"
   },
   "source": []
  },
  {
   "cell_type": "code",
   "execution_count": 14,
   "metadata": {
    "colab": {
     "base_uri": "https://localhost:8080/"
    },
    "id": "34rdlS_iPov6",
    "outputId": "90dec9e9-8435-469d-a196-198e854ca214"
   },
   "outputs": [
    {
     "name": "stderr",
     "output_type": "stream",
     "text": [
      "<ipython-input-14-9ea4abea94eb>:4: DeprecationWarning: nbformat.current is deprecated since before nbformat 3.0\n",
      "\n",
      "- use nbformat for read/write/validate public API\n",
      "- use nbformat.vX directly to composing notebooks of a particular version\n",
      "\n",
      "  from nbformat import current\n"
     ]
    },
    {
     "name": "stdout",
     "output_type": "stream",
     "text": [
      "Mounted at /content/drive\n",
      "Submission length is 1179\n"
     ]
    }
   ],
   "source": [
    "##This code will word count all of the markdown cells in the notebook saved at filepath\n",
    "\n",
    "import io\n",
    "from nbformat import current\n",
    "\n",
    "from google.colab import drive\n",
    "drive.mount('/content/drive')\n",
    "\n",
    "filepath=\"/content/drive/MyDrive/Colab Notebooks/ANLPassignment2023.ipynb\"\n",
    "question_count=432\n",
    "\n",
    "with io.open(filepath, 'r', encoding='utf-8') as f:\n",
    "    nb = current.read(f, 'json')\n",
    "\n",
    "word_count = 0\n",
    "for cell in nb.worksheets[0].cells:\n",
    "    if cell.cell_type == \"markdown\":\n",
    "        word_count += len(cell['source'].replace('#', '').lstrip().split(' '))\n",
    "print(\"Submission length is {}\".format(word_count-question_count))"
   ]
  }
 ],
 "metadata": {
  "colab": {
   "provenance": []
  },
  "kernelspec": {
   "display_name": "Python 3 (ipykernel)",
   "language": "python",
   "name": "python3"
  },
  "language_info": {
   "codemirror_mode": {
    "name": "ipython",
    "version": 3
   },
   "file_extension": ".py",
   "mimetype": "text/x-python",
   "name": "python",
   "nbconvert_exporter": "python",
   "pygments_lexer": "ipython3",
   "version": "3.11.5"
  }
 },
 "nbformat": 4,
 "nbformat_minor": 1
}
